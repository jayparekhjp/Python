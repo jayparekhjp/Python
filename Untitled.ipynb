{
 "cells": [
  {
   "cell_type": "code",
   "execution_count": 1,
   "metadata": {},
   "outputs": [],
   "source": [
    "A = 2\n",
    "B = 5"
   ]
  },
  {
   "cell_type": "code",
   "execution_count": 2,
   "metadata": {},
   "outputs": [
    {
     "name": "stdout",
     "output_type": "stream",
     "text": [
      "7\n"
     ]
    },
    {
     "ename": "KeyboardInterrupt",
     "evalue": "",
     "output_type": "error",
     "traceback": [
      "\u001b[0;31m---------------------------------------------------------------------------\u001b[0m",
      "\u001b[0;31mKeyboardInterrupt\u001b[0m                         Traceback (most recent call last)",
      "\u001b[0;32m<ipython-input-2-bc1ae6c764cb>\u001b[0m in \u001b[0;36m<module>\u001b[0;34m\u001b[0m\n\u001b[1;32m     16\u001b[0m     \u001b[0mans\u001b[0m\u001b[0;34m+=\u001b[0m\u001b[0;34m'bb'\u001b[0m\u001b[0;34m\u001b[0m\u001b[0;34m\u001b[0m\u001b[0m\n\u001b[1;32m     17\u001b[0m     \u001b[0mpairs_b\u001b[0m\u001b[0;34m-=\u001b[0m\u001b[0;36m1\u001b[0m\u001b[0;34m\u001b[0m\u001b[0;34m\u001b[0m\u001b[0m\n\u001b[0;32m---> 18\u001b[0;31m \u001b[0;32mwhile\u001b[0m \u001b[0mlen\u001b[0m\u001b[0;34m(\u001b[0m\u001b[0mans\u001b[0m\u001b[0;34m)\u001b[0m\u001b[0;34m<\u001b[0m\u001b[0mn\u001b[0m\u001b[0;34m:\u001b[0m\u001b[0;34m\u001b[0m\u001b[0;34m\u001b[0m\u001b[0m\n\u001b[0m\u001b[1;32m     19\u001b[0m     \u001b[0;32mif\u001b[0m \u001b[0mans\u001b[0m\u001b[0;34m[\u001b[0m\u001b[0;34m-\u001b[0m\u001b[0;36m1\u001b[0m\u001b[0;34m]\u001b[0m\u001b[0;34m==\u001b[0m\u001b[0;34m'b'\u001b[0m\u001b[0;34m:\u001b[0m\u001b[0;34m\u001b[0m\u001b[0;34m\u001b[0m\u001b[0m\n\u001b[1;32m     20\u001b[0m         \u001b[0;32mif\u001b[0m \u001b[0mpairs_a\u001b[0m\u001b[0;34m>\u001b[0m\u001b[0;36m2\u001b[0m\u001b[0;34m:\u001b[0m\u001b[0;34m\u001b[0m\u001b[0;34m\u001b[0m\u001b[0m\n",
      "\u001b[0;31mKeyboardInterrupt\u001b[0m: "
     ]
    }
   ],
   "source": [
    "n = A + B\n",
    "print(n)\n",
    "ans = ''\n",
    "pairs_a = A//2\n",
    "pairs_b = B//2\n",
    "rem_a = A%2\n",
    "rem_b = B%2\n",
    "# print(pairs_a)\n",
    "# print(pairs_b)\n",
    "# print(rem_a)\n",
    "# print(rem_b)\n",
    "if pairs_a>pairs_b:\n",
    "    ans+='aa'\n",
    "    pairs_a-=1\n",
    "else:\n",
    "    ans+='bb'\n",
    "    pairs_b-=1\n",
    "while len(ans)<n:\n",
    "    if ans[-1]=='b':\n",
    "        if pairs_a>2:\n",
    "            ans+='aa'\n",
    "            pairs_a-=1\n",
    "        elif A>0:\n",
    "            ans+='a'\n",
    "            A -= 1\n",
    "    if ans[-1]=='a':\n",
    "        if pairs_b>2:\n",
    "            ans+='bb'\n",
    "            pairs_b-=1\n",
    "        elif B>0:\n",
    "            ans+='b'\n",
    "            B -= 1\n",
    "print(ans)"
   ]
  },
  {
   "cell_type": "code",
   "execution_count": 4,
   "metadata": {},
   "outputs": [
    {
     "name": "stdout",
     "output_type": "stream",
     "text": [
      "f\n"
     ]
    }
   ],
   "source": [
    "string = 'daskjf'\n",
    "print(string[-1])"
   ]
  },
  {
   "cell_type": "code",
   "execution_count": 10,
   "metadata": {},
   "outputs": [],
   "source": [
    "A = 6\n",
    "B = 7"
   ]
  },
  {
   "cell_type": "code",
   "execution_count": 11,
   "metadata": {},
   "outputs": [
    {
     "name": "stdout",
     "output_type": "stream",
     "text": [
      "aabbabbabbaba\n"
     ]
    }
   ],
   "source": [
    "n = A+B\n",
    "ans = ''\n",
    "if A>B:\n",
    "    while len(ans)<n:\n",
    "        if A>2:\n",
    "            ans+='aa'\n",
    "            A-=2\n",
    "        elif A>0:\n",
    "            ans+='a'\n",
    "            A-=1\n",
    "        if B>0:\n",
    "            if ans[-1]=='b':\n",
    "                ans = 'b' + ans\n",
    "                B-=1\n",
    "            else:\n",
    "                ans+='b'\n",
    "                B-=1\n",
    "\n",
    "elif B>A:\n",
    "    while len(ans)<n:\n",
    "        if B>2:\n",
    "            ans+='bb'\n",
    "            B-=2\n",
    "        elif B>0:\n",
    "            ans+='b'\n",
    "            B-=1\n",
    "        if A>0:\n",
    "            if ans[-1]=='a':\n",
    "                ans = 'a' + ans\n",
    "                A-=1\n",
    "            else:\n",
    "                ans+='a'\n",
    "                A-=1\n",
    "else:\n",
    "    for _ in range(A):\n",
    "        ans+='ab'\n",
    "        A-=1\n",
    "        B-=1\n",
    "        \n",
    "print(ans)"
   ]
  },
  {
   "cell_type": "code",
   "execution_count": 95,
   "metadata": {},
   "outputs": [],
   "source": [
    "A = 7\n",
    "b = 3"
   ]
  },
  {
   "cell_type": "code",
   "execution_count": 99,
   "metadata": {},
   "outputs": [
    {
     "name": "stdout",
     "output_type": "stream",
     "text": [
      "['a', 'a', 'b', 'a', 'a', 'b', 'a', 'a', 'b', 'a', 'b', 'b', 'b', 'b', 'b', 'b', 'b', 'b', 'b', 'b', 'b', 'b', 'b', 'b']\n"
     ]
    }
   ],
   "source": [
    "n = A+B\n",
    "ans=''\n",
    "if A>B:\n",
    "    ans = A*'a'\n",
    "    ans = list(ans)\n",
    "    i = 2\n",
    "    ans.insert(i,'b')\n",
    "    while i<len(list_ans):\n",
    "        i+=3\n",
    "        ans.insert(i,'b')\n",
    "        B-=1\n",
    "elif B>A:\n",
    "    ans = A*'b'\n",
    "else:\n",
    "    for _ in range(A):\n",
    "        ans+='ab'\n",
    "        A-=1\n",
    "        B-=1\n",
    "print(ans)"
   ]
  },
  {
   "cell_type": "code",
   "execution_count": 79,
   "metadata": {},
   "outputs": [],
   "source": [
    "lis = [A*'a']\n",
    "lis.insert(2,'sss')"
   ]
  },
  {
   "cell_type": "code",
   "execution_count": 80,
   "metadata": {},
   "outputs": [
    {
     "name": "stdout",
     "output_type": "stream",
     "text": [
      "['aaaaaaa', 'sss']\n"
     ]
    }
   ],
   "source": [
    "print(lis)"
   ]
  },
  {
   "cell_type": "code",
   "execution_count": null,
   "metadata": {},
   "outputs": [],
   "source": []
  }
 ],
 "metadata": {
  "kernelspec": {
   "display_name": "Python 3",
   "language": "python",
   "name": "python3"
  },
  "language_info": {
   "codemirror_mode": {
    "name": "ipython",
    "version": 3
   },
   "file_extension": ".py",
   "mimetype": "text/x-python",
   "name": "python",
   "nbconvert_exporter": "python",
   "pygments_lexer": "ipython3",
   "version": "3.7.1"
  }
 },
 "nbformat": 4,
 "nbformat_minor": 2
}
