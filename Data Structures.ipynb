{
 "cells": [
  {
   "cell_type": "markdown",
   "metadata": {},
   "source": [
    "# Data Structures"
   ]
  },
  {
   "cell_type": "markdown",
   "metadata": {},
   "source": [
    "## Linked List"
   ]
  },
  {
   "cell_type": "code",
   "execution_count": 50,
   "metadata": {},
   "outputs": [],
   "source": [
    "class Node:\n",
    "    def __init__(self,value):\n",
    "        self.data = value\n",
    "        self.link = None\n",
    "class SingleLinkedList:\n",
    "    def __init__(self):\n",
    "        self.start = None\n",
    "    def display_list(self):\n",
    "        if self.start == None:\n",
    "            print('List Empty')\n",
    "        else:\n",
    "            p = self.start\n",
    "            while p != None:\n",
    "                print(p.data,'',end='')\n",
    "                p = p.link\n",
    "    def count_nodes(self):\n",
    "        p = self.start\n",
    "        count = 0\n",
    "        while p != None:\n",
    "            count +=1\n",
    "            p = p.link\n",
    "        return count\n",
    "    def find_node(self,val):\n",
    "        position = 1\n",
    "        p = self.start\n",
    "        while p != None:\n",
    "            if p.data == val:\n",
    "                print('Value at Node',position)\n",
    "                return True\n",
    "            position += 1\n",
    "            p = p.link\n",
    "        print('Value not found')\n",
    "        return False\n",
    "    def insert_at_beginning(self,data):\n",
    "        temp = Node(data)\n",
    "        temp.link = self.start\n",
    "        self.start = temp\n",
    "    def insert_at_end(self,data):\n",
    "        temp = Node(data)\n",
    "        if self.start is None:\n",
    "            self.start = temp\n",
    "        else:\n",
    "            p = self.start\n",
    "            while p.link is not None:\n",
    "                p = p.link\n",
    "            p.link = temp\n",
    "    def create_list(self):\n",
    "        n = int(input('Number of nodes:'))\n",
    "        for i in range(n):\n",
    "            data = int(input('Node data:'))\n",
    "            self.insert_at_end(data)\n",
    "    def insert_after(self, data, x):\n",
    "        p = self.start\n",
    "        while p is not None:\n",
    "            if p.data == x:\n",
    "                break\n",
    "            p = p.link\n",
    "        if p is None:\n",
    "            print(x, 'Not present in list')\n",
    "        else:\n",
    "            temp = Node(data)\n",
    "            temp.link = p.link\n",
    "            p.link = temp\n",
    "    def insert_before(self, data, x):\n",
    "        if self.start is None:\n",
    "            print('List is empty')\n",
    "            return\n",
    "        if x == self.start.data:\n",
    "            temp = Node(data)\n",
    "            temp.link = self.start\n",
    "            self.start = temp\n",
    "            return\n",
    "        p = self.start\n",
    "        while p.link is not None:\n",
    "            if p.link.data == x:\n",
    "                break\n",
    "            p = p.link\n",
    "        if p.link is None:\n",
    "            print(x,'Not present in list')\n",
    "        else:\n",
    "            temp = Node(data)\n",
    "            temp.link = p.link\n",
    "            p.link = temp\n",
    "    def insert_at_position(self, data, k):\n",
    "        if k == 1:\n",
    "            temp = Node(data)\n",
    "            temp.link = self.start\n",
    "            self.start = temp\n",
    "            return\n",
    "        p = self.start\n",
    "        count = 0\n",
    "        while count<k-1 and p.link is not None:\n",
    "            p = p.link\n",
    "            count +=1\n",
    "        if p is None:\n",
    "            print('You can add only upto',i)\n",
    "        else:\n",
    "            temp = Node(data)\n",
    "            temp.link = p.link\n",
    "            p.link = temp"
   ]
  },
  {
   "cell_type": "code",
   "execution_count": 51,
   "metadata": {},
   "outputs": [
    {
     "name": "stdout",
     "output_type": "stream",
     "text": [
      "node1 "
     ]
    }
   ],
   "source": [
    "mylist = SingleLinkedList()\n",
    "mylist.start = Node('node1')\n",
    "mylist.display_list()"
   ]
  },
  {
   "cell_type": "code",
   "execution_count": 52,
   "metadata": {},
   "outputs": [
    {
     "name": "stdout",
     "output_type": "stream",
     "text": [
      "node1 node2 "
     ]
    }
   ],
   "source": [
    "n2 = Node('node2')\n",
    "mylist.start.link = n2\n",
    "mylist.display_list()"
   ]
  },
  {
   "cell_type": "code",
   "execution_count": 53,
   "metadata": {},
   "outputs": [
    {
     "data": {
      "text/plain": [
       "2"
      ]
     },
     "execution_count": 53,
     "metadata": {},
     "output_type": "execute_result"
    }
   ],
   "source": [
    "mylist.count_nodes()"
   ]
  },
  {
   "cell_type": "code",
   "execution_count": 54,
   "metadata": {},
   "outputs": [
    {
     "name": "stdout",
     "output_type": "stream",
     "text": [
      "Value at Node 2\n"
     ]
    },
    {
     "data": {
      "text/plain": [
       "True"
      ]
     },
     "execution_count": 54,
     "metadata": {},
     "output_type": "execute_result"
    }
   ],
   "source": [
    "mylist.find_node('node2')"
   ]
  },
  {
   "cell_type": "code",
   "execution_count": 55,
   "metadata": {},
   "outputs": [
    {
     "name": "stdout",
     "output_type": "stream",
     "text": [
      "start node1 node2 "
     ]
    }
   ],
   "source": [
    "mylist.insert_at_beginning('start')\n",
    "mylist.display_list()"
   ]
  },
  {
   "cell_type": "code",
   "execution_count": 56,
   "metadata": {},
   "outputs": [
    {
     "name": "stdout",
     "output_type": "stream",
     "text": [
      "start node1 node2 end "
     ]
    }
   ],
   "source": [
    "mylist.insert_at_end('end')\n",
    "mylist.display_list()"
   ]
  },
  {
   "cell_type": "code",
   "execution_count": 57,
   "metadata": {},
   "outputs": [
    {
     "name": "stdout",
     "output_type": "stream",
     "text": [
      "Number of nodes:5\n",
      "Node data:1\n",
      "Node data:2\n",
      "Node data:3\n",
      "Node data:4\n",
      "Node data:5\n",
      "1 2 3 4 5 "
     ]
    }
   ],
   "source": [
    "new_list = SingleLinkedList()\n",
    "new_list.create_list()\n",
    "new_list.display_list()"
   ]
  },
  {
   "cell_type": "code",
   "execution_count": 58,
   "metadata": {},
   "outputs": [],
   "source": [
    "new_list.insert_after(99,2)"
   ]
  },
  {
   "cell_type": "code",
   "execution_count": 59,
   "metadata": {},
   "outputs": [
    {
     "name": "stdout",
     "output_type": "stream",
     "text": [
      "1 2 99 3 4 5 "
     ]
    }
   ],
   "source": [
    "new_list.display_list()"
   ]
  },
  {
   "cell_type": "code",
   "execution_count": 60,
   "metadata": {},
   "outputs": [
    {
     "name": "stdout",
     "output_type": "stream",
     "text": [
      "1 2 99 3 100 4 5 "
     ]
    }
   ],
   "source": [
    "new_list.insert_after(100,3)\n",
    "new_list.display_list()"
   ]
  },
  {
   "cell_type": "code",
   "execution_count": 61,
   "metadata": {},
   "outputs": [
    {
     "name": "stdout",
     "output_type": "stream",
     "text": [
      "1 2 101 99 3 100 4 5 "
     ]
    }
   ],
   "source": [
    "new_list.insert_at_position(101,2)\n",
    "new_list.display_list()"
   ]
  },
  {
   "cell_type": "code",
   "execution_count": null,
   "metadata": {},
   "outputs": [],
   "source": []
  }
 ],
 "metadata": {
  "kernelspec": {
   "display_name": "Python 3",
   "language": "python",
   "name": "python3"
  },
  "language_info": {
   "codemirror_mode": {
    "name": "ipython",
    "version": 3
   },
   "file_extension": ".py",
   "mimetype": "text/x-python",
   "name": "python",
   "nbconvert_exporter": "python",
   "pygments_lexer": "ipython3",
   "version": "3.7.1"
  }
 },
 "nbformat": 4,
 "nbformat_minor": 2
}
