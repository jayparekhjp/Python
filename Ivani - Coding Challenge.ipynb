{
 "cells": [
  {
   "cell_type": "code",
   "execution_count": 4,
   "metadata": {},
   "outputs": [
    {
     "name": "stdout",
     "output_type": "stream",
     "text": [
      "[600, 301, 302]\n",
      "301\n"
     ]
    }
   ],
   "source": [
    "A = [600,301,302]\n",
    "print(A)\n",
    "ans = A[0]\n",
    "for i in range(1,len(A)):\n",
    "    if A[i] < ans:\n",
    "        ans = A[i]\n",
    "print (ans)"
   ]
  },
  {
   "cell_type": "code",
   "execution_count": 109,
   "metadata": {},
   "outputs": [],
   "source": [
    "S = 'Wed'\n",
    "K = -1"
   ]
  },
  {
   "cell_type": "code",
   "execution_count": 110,
   "metadata": {},
   "outputs": [
    {
     "name": "stdout",
     "output_type": "stream",
     "text": [
      "Tue\n"
     ]
    }
   ],
   "source": [
    "days = {1:'Mon', 2:'Tue', 3:'Wed', 4:'Thu', 5:'Fri', 6:'Sat', 7:'Sun'}\n",
    "days_alter = {'Mon':1, 'Tue':2, 'Wed':3, 'Thu':4, 'Fri':5, 'Sat':6, 'Sun':7}\n",
    "print(days[(days_alter[S]+K)%7])"
   ]
  },
  {
   "cell_type": "code",
   "execution_count": 100,
   "metadata": {},
   "outputs": [],
   "source": [
    "A = [1,2,3,4,5] "
   ]
  },
  {
   "cell_type": "code",
   "execution_count": 97,
   "metadata": {},
   "outputs": [
    {
     "name": "stdout",
     "output_type": "stream",
     "text": [
      "{1: 1, 2: 1, 3: 1, 4: 1, 5: 1}\n",
      "5\n",
      "5\n"
     ]
    }
   ],
   "source": [
    "dice = {}\n",
    "for i in A:\n",
    "    dice[i] = dice.get(i,0) + 1\n",
    "print(dice)\n",
    "max_occurence = max(dice.values())\n",
    "if max_occurence == 1:\n",
    "    B = A\n",
    "    for i in range(len(B)-1):\n",
    "        for j in range(i,len(B)):\n",
    "            if B[i]+B[j] == 7:\n",
    "                print(B[i],B[j])\n",
    "                B.pop(j)\n",
    "                B.pop(i)\n",
    "\n",
    "# print(B)\n",
    "    \n",
    "set_value = 0\n",
    "\n",
    "for k in dice:\n",
    "    if dice[k] == max_occurence:\n",
    "        set_value = k\n",
    "#         break\n",
    "print(set_value)\n",
    "\n",
    "count = 0\n",
    "for d in A:\n",
    "    if d + set_value == 7:\n",
    "        count += 2\n",
    "    elif d == set_value:\n",
    "        count += 0\n",
    "    else:\n",
    "        count += 1\n",
    "print(count)"
   ]
  },
  {
   "cell_type": "code",
   "execution_count": null,
   "metadata": {},
   "outputs": [],
   "source": []
  }
 ],
 "metadata": {
  "kernelspec": {
   "display_name": "Python 3",
   "language": "python",
   "name": "python3"
  },
  "language_info": {
   "codemirror_mode": {
    "name": "ipython",
    "version": 3
   },
   "file_extension": ".py",
   "mimetype": "text/x-python",
   "name": "python",
   "nbconvert_exporter": "python",
   "pygments_lexer": "ipython3",
   "version": "3.7.1"
  }
 },
 "nbformat": 4,
 "nbformat_minor": 2
}
