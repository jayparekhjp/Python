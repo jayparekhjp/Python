{
 "cells": [
  {
   "cell_type": "markdown",
   "metadata": {},
   "source": [
    "## ASCII-Encoded Strings"
   ]
  },
  {
   "cell_type": "code",
   "execution_count": 11,
   "metadata": {},
   "outputs": [
    {
     "name": "stdout",
     "output_type": "stream",
     "text": [
      "1219950180111108236115111016623101401611235115012312161151110101111127\n"
     ]
    }
   ],
   "source": [
    "raw = input()\n",
    "raw_list = list(raw)\n",
    "raw_list = raw_list[::-1]"
   ]
  },
  {
   "cell_type": "code",
   "execution_count": 12,
   "metadata": {},
   "outputs": [
    {
     "name": "stdout",
     "output_type": "stream",
     "text": [
      "['7', '2', '1', '1', '1', '1', '1', '0', '1', '0', '1', '1', '1', '5', '1', '1', '6', '1', '2', '1', '3', '2', '1', '0', '5', '1', '1', '5', '3', '2', '1', '1', '6', '1', '0', '4', '1', '0', '1', '3', '2', '6', '6', '1', '0', '1', '1', '1', '5', '1', '1', '6', '3', '2', '8', '0', '1', '1', '1', '1', '0', '8', '1', '0', '5', '9', '9', '1', '2', '1']\n",
      "72\n",
      "11\n",
      "11\n",
      "10\n",
      "11\n",
      "11\n",
      "12\n",
      "32\n",
      "10\n",
      "11\n",
      "32\n",
      "11\n",
      "10\n",
      "10\n",
      "32\n",
      "66\n",
      "10\n",
      "11\n",
      "11\n",
      "32\n",
      "80\n",
      "11\n",
      "10\n",
      "10\n",
      "99\n",
      "12\n",
      "['H', 'o', 'n', 'e', 's', 't', 'y', '', 'i', 's', '', 't', 'h', 'e', '', 'B', 'e', 's', 't', '', 'P', 'o', 'l', 'i', 'c', 'y']\n"
     ]
    }
   ],
   "source": [
    "print(raw_list)\n",
    "processed_list = []\n",
    "i = 0\n",
    "ans_list = []\n",
    "while i<(len(raw_list)-2):\n",
    "    temp = raw_list[i] + raw_list[i+1]\n",
    "#     print(temp)\n",
    "    if int(temp)==32:\n",
    "        print(temp)\n",
    "        temp_ans = ''\n",
    "        ans_list.append(temp_ans)\n",
    "        i+=2\n",
    "    elif 65<=int(temp)<=90 or 97<=int(temp)<=122:\n",
    "        print(temp)\n",
    "        temp_ans = chr(int(temp))\n",
    "        ans_list.append(temp_ans)\n",
    "        i+=2\n",
    "    else:\n",
    "        print(temp)\n",
    "        temp += raw_list[i+2]\n",
    "        temp_ans = chr(int(temp))\n",
    "        ans_list.append(temp_ans)\n",
    "        i+=3\n",
    "print(str(ans_list))"
   ]
  },
  {
   "cell_type": "code",
   "execution_count": 13,
   "metadata": {},
   "outputs": [
    {
     "name": "stdout",
     "output_type": "stream",
     "text": [
      "Honesty is the Best Policy\n"
     ]
    }
   ],
   "source": [
    "final_ans = ''\n",
    "for i in ans_list:\n",
    "    if i=='':\n",
    "        final_ans += ' '\n",
    "    else:\n",
    "        final_ans += i\n",
    "print(final_ans)"
   ]
  },
  {
   "cell_type": "markdown",
   "metadata": {},
   "source": [
    "### Attempt 2"
   ]
  },
  {
   "cell_type": "code",
   "execution_count": 9,
   "metadata": {},
   "outputs": [
    {
     "name": "stdout",
     "output_type": "stream",
     "text": [
      "1219950180111108236115111016623101401611235115012312161151110101111127\n"
     ]
    }
   ],
   "source": [
    "encoded = input()"
   ]
  },
  {
   "cell_type": "code",
   "execution_count": 10,
   "metadata": {},
   "outputs": [
    {
     "name": "stdout",
     "output_type": "stream",
     "text": [
      "{'32': ' ', '65': 'A', '66': 'B', '67': 'C', '68': 'D', '69': 'E', '70': 'F', '71': 'G', '72': 'H', '73': 'I', '74': 'J', '75': 'K', '76': 'L', '77': 'M', '78': 'N', '79': 'O', '80': 'P', '81': 'Q', '82': 'R', '83': 'S', '84': 'T', '85': 'U', '86': 'V', '87': 'W', '88': 'X', '89': 'Y', '90': 'Z', '97': 'a', '98': 'b', '99': 'c', '100': 'd', '101': 'e', '102': 'f', '103': 'g', '104': 'h', '105': 'i', '106': 'j', '107': 'k', '108': 'l', '109': 'm', '110': 'n', '111': 'o', '112': 'p', '113': 'q', '114': 'r', '115': 's', '116': 't', '117': 'u', '118': 'v', '119': 'w', '120': 'x', '121': 'y', '122': 'z'}\n",
      "Honesty is the Best Policy\n"
     ]
    }
   ],
   "source": [
    "raw = encoded[::-1]\n",
    "directory = { '32' : ' '}\n",
    "for i in range(65,123):\n",
    "    if 65<=i<=90:\n",
    "        directory[str(i)] = chr(i)\n",
    "    elif 97<=i<=122:\n",
    "        directory[str(i)] = chr(i)\n",
    "print(directory)\n",
    "\n",
    "ans = \"\"\n",
    "while raw:\n",
    "    for i in directory:\n",
    "        if raw.startswith(i):\n",
    "            ans += directory[i]\n",
    "            raw = raw[len(i):]\n",
    "print(ans)"
   ]
  },
  {
   "cell_type": "markdown",
   "metadata": {},
   "source": [
    "## HackLand Election"
   ]
  },
  {
   "cell_type": "code",
   "execution_count": 1,
   "metadata": {},
   "outputs": [
    {
     "name": "stdout",
     "output_type": "stream",
     "text": [
      "10\n",
      "Victor\n",
      "Veronica\n",
      "Ryan\n",
      "Dave\n",
      "Maria\n",
      "Maria\n",
      "Farah\n",
      "Farah\n",
      "Ryan\n",
      "Veronica\n",
      "['Victor', 'Veronica', 'Ryan', 'Dave', 'Maria', 'Maria', 'Farah', 'Farah', 'Ryan', 'Veronica']\n"
     ]
    }
   ],
   "source": [
    "n = int(input())\n",
    "votes = []\n",
    "for _ in range(n):\n",
    "    votes.append(input())\n",
    "print(votes)"
   ]
  },
  {
   "cell_type": "code",
   "execution_count": 30,
   "metadata": {},
   "outputs": [
    {
     "name": "stdout",
     "output_type": "stream",
     "text": [
      "{'Victor': 1, 'Veronica': 2, 'Ryan': 2, 'Dave': 1, 'Maria': 2, 'Farah': 2}\n",
      "['Veronica', 'Ryan', 'Maria', 'Farah']\n",
      "Veronica\n"
     ]
    }
   ],
   "source": [
    "votes = ['Victor', 'Veronica', 'Ryan', 'Dave', 'Maria', 'Maria', 'Farah', 'Farah', 'Ryan', 'Veronica']\n",
    "vote_dict = {}\n",
    "for vote in votes:\n",
    "    vote_dict[vote] = vote_dict.get(vote,0) + 1\n",
    "print(vote_dict)\n",
    "max = 0\n",
    "tie_list = []\n",
    "for vote, count in vote_dict.items():\n",
    "    if count>max:\n",
    "        max = count\n",
    "        temp = vote\n",
    "        tie_list = []\n",
    "        tie_list.append(vote)\n",
    "    elif count==max:\n",
    "        tie_list.append(vote)\n",
    "print(tie_list)\n",
    "tie_list.sort()\n",
    "print(tie_list[-1])"
   ]
  },
  {
   "cell_type": "markdown",
   "metadata": {},
   "source": [
    "## The Huffman Decoder"
   ]
  },
  {
   "cell_type": "code",
   "execution_count": 9,
   "metadata": {},
   "outputs": [],
   "source": [
    "codes = ['a\\t100100', 'b\\t100101', 'c\\t110001', 'd\\t100000', '[newline]\\t111111', 'p\\t111110', 'q\\t000001']\n",
    "encoded = \"111110000001100100111111100101110001111110\""
   ]
  },
  {
   "cell_type": "code",
   "execution_count": 10,
   "metadata": {},
   "outputs": [
    {
     "name": "stdout",
     "output_type": "stream",
     "text": [
      "[['a', '100100'], ['b', '100101'], ['c', '110001'], ['d', '100000'], ['[newline]', '111111'], ['p', '111110'], ['q', '000001']]\n",
      "{'100100': 'a', '100101': 'b', '110001': 'c', '100000': 'd', '111111': '[newline]', '111110': 'p', '000001': 'q'}\n",
      "pqa\n",
      "bcp\n"
     ]
    }
   ],
   "source": [
    "code_list = []\n",
    "for code in codes:\n",
    "    code_list.append(code.split('\\t'))\n",
    "print(code_list)\n",
    "code_dict = {}\n",
    "for code in code_list:\n",
    "    code_dict[(code[1])] = code[0]\n",
    "print(code_dict)\n",
    "\n",
    "ans = \"\"\n",
    "while encoded:\n",
    "    for code in code_dict:\n",
    "        if encoded.startswith(code):\n",
    "            if code_dict[code]=='[newline]':\n",
    "                ans += '\\n'\n",
    "                encoded = encoded[len(code):]\n",
    "            else:\n",
    "                ans += code_dict[code]\n",
    "                encoded = encoded[len(code):]\n",
    "print(ans)"
   ]
  },
  {
   "cell_type": "code",
   "execution_count": 31,
   "metadata": {},
   "outputs": [],
   "source": []
  }
 ],
 "metadata": {
  "kernelspec": {
   "display_name": "Python 3",
   "language": "python",
   "name": "python3"
  },
  "language_info": {
   "codemirror_mode": {
    "name": "ipython",
    "version": 3
   },
   "file_extension": ".py",
   "mimetype": "text/x-python",
   "name": "python",
   "nbconvert_exporter": "python",
   "pygments_lexer": "ipython3",
   "version": "3.7.1"
  }
 },
 "nbformat": 4,
 "nbformat_minor": 2
}
