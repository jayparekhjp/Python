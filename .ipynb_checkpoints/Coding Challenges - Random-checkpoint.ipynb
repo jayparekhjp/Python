{
 "cells": [
  {
   "cell_type": "markdown",
   "metadata": {},
   "source": [
    "# Twitter"
   ]
  },
  {
   "cell_type": "code",
   "execution_count": 1,
   "metadata": {},
   "outputs": [],
   "source": [
    "A = 2\n",
    "B = 5"
   ]
  },
  {
   "cell_type": "code",
   "execution_count": 2,
   "metadata": {},
   "outputs": [
    {
     "name": "stdout",
     "output_type": "stream",
     "text": [
      "7\n"
     ]
    },
    {
     "ename": "KeyboardInterrupt",
     "evalue": "",
     "output_type": "error",
     "traceback": [
      "\u001b[0;31m---------------------------------------------------------------------------\u001b[0m",
      "\u001b[0;31mKeyboardInterrupt\u001b[0m                         Traceback (most recent call last)",
      "\u001b[0;32m<ipython-input-2-bc1ae6c764cb>\u001b[0m in \u001b[0;36m<module>\u001b[0;34m\u001b[0m\n\u001b[1;32m     16\u001b[0m     \u001b[0mans\u001b[0m\u001b[0;34m+=\u001b[0m\u001b[0;34m'bb'\u001b[0m\u001b[0;34m\u001b[0m\u001b[0;34m\u001b[0m\u001b[0m\n\u001b[1;32m     17\u001b[0m     \u001b[0mpairs_b\u001b[0m\u001b[0;34m-=\u001b[0m\u001b[0;36m1\u001b[0m\u001b[0;34m\u001b[0m\u001b[0;34m\u001b[0m\u001b[0m\n\u001b[0;32m---> 18\u001b[0;31m \u001b[0;32mwhile\u001b[0m \u001b[0mlen\u001b[0m\u001b[0;34m(\u001b[0m\u001b[0mans\u001b[0m\u001b[0;34m)\u001b[0m\u001b[0;34m<\u001b[0m\u001b[0mn\u001b[0m\u001b[0;34m:\u001b[0m\u001b[0;34m\u001b[0m\u001b[0;34m\u001b[0m\u001b[0m\n\u001b[0m\u001b[1;32m     19\u001b[0m     \u001b[0;32mif\u001b[0m \u001b[0mans\u001b[0m\u001b[0;34m[\u001b[0m\u001b[0;34m-\u001b[0m\u001b[0;36m1\u001b[0m\u001b[0;34m]\u001b[0m\u001b[0;34m==\u001b[0m\u001b[0;34m'b'\u001b[0m\u001b[0;34m:\u001b[0m\u001b[0;34m\u001b[0m\u001b[0;34m\u001b[0m\u001b[0m\n\u001b[1;32m     20\u001b[0m         \u001b[0;32mif\u001b[0m \u001b[0mpairs_a\u001b[0m\u001b[0;34m>\u001b[0m\u001b[0;36m2\u001b[0m\u001b[0;34m:\u001b[0m\u001b[0;34m\u001b[0m\u001b[0;34m\u001b[0m\u001b[0m\n",
      "\u001b[0;31mKeyboardInterrupt\u001b[0m: "
     ]
    }
   ],
   "source": [
    "n = A + B\n",
    "print(n)\n",
    "ans = ''\n",
    "pairs_a = A//2\n",
    "pairs_b = B//2\n",
    "rem_a = A%2\n",
    "rem_b = B%2\n",
    "# print(pairs_a)\n",
    "# print(pairs_b)\n",
    "# print(rem_a)\n",
    "# print(rem_b)\n",
    "if pairs_a>pairs_b:\n",
    "    ans+='aa'\n",
    "    pairs_a-=1\n",
    "else:\n",
    "    ans+='bb'\n",
    "    pairs_b-=1\n",
    "while len(ans)<n:\n",
    "    if ans[-1]=='b':\n",
    "        if pairs_a>2:\n",
    "            ans+='aa'\n",
    "            pairs_a-=1\n",
    "        elif A>0:\n",
    "            ans+='a'\n",
    "            A -= 1\n",
    "    if ans[-1]=='a':\n",
    "        if pairs_b>2:\n",
    "            ans+='bb'\n",
    "            pairs_b-=1\n",
    "        elif B>0:\n",
    "            ans+='b'\n",
    "            B -= 1\n",
    "print(ans)"
   ]
  },
  {
   "cell_type": "code",
   "execution_count": 4,
   "metadata": {},
   "outputs": [
    {
     "name": "stdout",
     "output_type": "stream",
     "text": [
      "f\n"
     ]
    }
   ],
   "source": [
    "string = 'daskjf'\n",
    "print(string[-1])"
   ]
  },
  {
   "cell_type": "code",
   "execution_count": 10,
   "metadata": {},
   "outputs": [],
   "source": [
    "A = 6\n",
    "B = 7"
   ]
  },
  {
   "cell_type": "code",
   "execution_count": 11,
   "metadata": {},
   "outputs": [
    {
     "name": "stdout",
     "output_type": "stream",
     "text": [
      "aabbabbabbaba\n"
     ]
    }
   ],
   "source": [
    "n = A+B\n",
    "ans = ''\n",
    "if A>B:\n",
    "    while len(ans)<n:\n",
    "        if A>2:\n",
    "            ans+='aa'\n",
    "            A-=2\n",
    "        elif A>0:\n",
    "            ans+='a'\n",
    "            A-=1\n",
    "        if B>0:\n",
    "            if ans[-1]=='b':\n",
    "                ans = 'b' + ans\n",
    "                B-=1\n",
    "            else:\n",
    "                ans+='b'\n",
    "                B-=1\n",
    "\n",
    "elif B>A:\n",
    "    while len(ans)<n:\n",
    "        if B>2:\n",
    "            ans+='bb'\n",
    "            B-=2\n",
    "        elif B>0:\n",
    "            ans+='b'\n",
    "            B-=1\n",
    "        if A>0:\n",
    "            if ans[-1]=='a':\n",
    "                ans = 'a' + ans\n",
    "                A-=1\n",
    "            else:\n",
    "                ans+='a'\n",
    "                A-=1\n",
    "else:\n",
    "    for _ in range(A):\n",
    "        ans+='ab'\n",
    "        A-=1\n",
    "        B-=1\n",
    "        \n",
    "print(ans)"
   ]
  },
  {
   "cell_type": "code",
   "execution_count": 95,
   "metadata": {},
   "outputs": [],
   "source": [
    "A = 7\n",
    "b = 3"
   ]
  },
  {
   "cell_type": "code",
   "execution_count": 99,
   "metadata": {},
   "outputs": [
    {
     "name": "stdout",
     "output_type": "stream",
     "text": [
      "['a', 'a', 'b', 'a', 'a', 'b', 'a', 'a', 'b', 'a', 'b', 'b', 'b', 'b', 'b', 'b', 'b', 'b', 'b', 'b', 'b', 'b', 'b', 'b']\n"
     ]
    }
   ],
   "source": [
    "n = A+B\n",
    "ans=''\n",
    "if A>B:\n",
    "    ans = A*'a'\n",
    "    ans = list(ans)\n",
    "    i = 2\n",
    "    ans.insert(i,'b')\n",
    "    while i<len(list_ans):\n",
    "        i+=3\n",
    "        ans.insert(i,'b')\n",
    "        B-=1\n",
    "elif B>A:\n",
    "    ans = A*'b'\n",
    "else:\n",
    "    for _ in range(A):\n",
    "        ans+='ab'\n",
    "        A-=1\n",
    "        B-=1\n",
    "print(ans)"
   ]
  },
  {
   "cell_type": "code",
   "execution_count": 79,
   "metadata": {},
   "outputs": [],
   "source": [
    "lis = [A*'a']\n",
    "lis.insert(2,'sss')"
   ]
  },
  {
   "cell_type": "code",
   "execution_count": 80,
   "metadata": {},
   "outputs": [
    {
     "name": "stdout",
     "output_type": "stream",
     "text": [
      "['aaaaaaa', 'sss']\n"
     ]
    }
   ],
   "source": [
    "print(lis)"
   ]
  },
  {
   "cell_type": "code",
   "execution_count": 45,
   "metadata": {},
   "outputs": [],
   "source": [
    "text = 'aaaabbbbcdcdcd'"
   ]
  },
  {
   "cell_type": "code",
   "execution_count": 46,
   "metadata": {},
   "outputs": [
    {
     "name": "stdout",
     "output_type": "stream",
     "text": [
      "a\n"
     ]
    }
   ],
   "source": [
    "if text == '':\n",
    "    print('')\n",
    "else:\n",
    "    chars_dict = {}\n",
    "    for char in text:\n",
    "        chars_dict[char] = chars_dict.get(char,0) + 1\n",
    "#     print(chars_dict)\n",
    "    chars_new_dict = {}\n",
    "    for char,value in chars_dict.items():\n",
    "        chars_new_dict[value] = chars_new_dict.get(value,char)\n",
    "#     print(chars_new_dict)\n",
    "    print(chars_new_dict[max(chars_new_dict)])"
   ]
  },
  {
   "cell_type": "code",
   "execution_count": null,
   "metadata": {},
   "outputs": [],
   "source": []
  },
  {
   "cell_type": "markdown",
   "metadata": {},
   "source": [
    "# Okta"
   ]
  },
  {
   "cell_type": "code",
   "execution_count": 117,
   "metadata": {},
   "outputs": [],
   "source": [
    "# A = ['bella 0', 'bella 15', 'bella 59', 'bella 59', 'bella 60', 'bella 62', 'bella 80', 'bella 120', 'bella 180', 'bella 240', 'erica 0', 'erica 60', 'erica 120', 'erica 180', 'erica 240', 'erica 320' ]\n",
    "Y = 3\n",
    "A = ['bella 0', 'bella 15', 'bella 59', 'bella 59', 'bella 60', 'bella 62', 'bella 80', 'bella 120', 'bella 180', 'bella 240', 'bella 320', 'bella 360', 'bella 450', 'bella 1000','bella 1200', 'erica 0', 'erica 60', 'erica 120', 'erica 180', 'erica 240', 'erica 320' ]"
   ]
  },
  {
   "cell_type": "code",
   "execution_count": 122,
   "metadata": {},
   "outputs": [
    {
     "name": "stdout",
     "output_type": "stream",
     "text": [
      "{0: 4, 1: 4, 2: 2, 3: 2, 4: 2, 5: 2, 6: 1, 7: 1, 8: 0, 9: 0, 10: 0, 11: 0, 12: 0, 13: 0, 14: 0, 15: 0, 16: 1, 17: 0, 18: 0, 19: 0, 20: 1}\n",
      "4\n",
      "8\n",
      "10\n",
      "12\n",
      "14\n",
      "12\n",
      "9\n",
      "8\n",
      "6\n",
      "4\n",
      "2\n",
      "1\n",
      "0\n",
      "0\n",
      "0\n",
      "0\n",
      "1\n",
      "1\n",
      "1\n",
      "1\n",
      "2\n",
      "Client Dict: {'bella': {0: [0, 15, 59], 1: [60, 62, 80], 2: [120], 3: [], 4: [], 5: [], 6: [], 7: [], 8: [], 9: [], 10: [], 11: [], 12: [], 13: [], 14: [], 15: [], 16: [1000], 17: [], 18: [], 19: [], 20: [1200]}, 'erica': {0: [0], 1: [60], 2: [120], 3: [180], 4: [240], 5: [320], 6: [], 7: [], 8: [], 9: [], 10: [], 11: [], 12: [], 13: [], 14: [], 15: [], 16: [], 17: [], 18: [], 19: [], 20: []}}\n",
      "{0: 4, 1: 4, 2: 2, 3: 2, 4: 2, 5: 2, 6: 1, 7: 1, 8: 0, 9: 0, 10: 0, 11: 0, 12: 0, 13: 0, 14: 0, 15: 0, 16: 1, 17: 0, 18: 0, 19: 0, 20: 1}\n",
      "{'bella': 9, 'erica': 6}\n"
     ]
    }
   ],
   "source": [
    "clients = {}\n",
    "last_timestamp = 0\n",
    "for request in A:\n",
    "    client, timestamp = request.split()\n",
    "    timestamp = int(timestamp)\n",
    "    clients[client] = {}\n",
    "    if timestamp > last_timestamp:\n",
    "        last_timestamp = timestamp\n",
    "        \n",
    "# print('Client Dict:', clients)\n",
    "# print('Last Timestamp:', last_timestamp)\n",
    "# print('Total Minutes:', last_timestamp//60)\n",
    "\n",
    "minutes = [int(i) for i in range((last_timestamp//60)+1)]\n",
    "# print('Minutes:', minutes)\n",
    "for client, reqs in clients.items():\n",
    "    for minute in minutes:\n",
    "        clients[client][minute] = []\n",
    "\n",
    "# print('Client Dict:', clients)\n",
    "\n",
    "for request in A:\n",
    "    client, timestamp = request.split()\n",
    "    timestamp = int(timestamp)\n",
    "    temp_minute = int(timestamp//60)\n",
    "    if len(clients[client][temp_minute])<Y:\n",
    "        clients[client][temp_minute].append(timestamp)\n",
    "# print('Client Dict:', clients)\n",
    "\n",
    "minutes_dic = {}\n",
    "for minute in minutes:\n",
    "    minutes_dic[minute] = 0\n",
    "# print(minutes_dic)\n",
    "\n",
    "for client, timestamp in clients.items():\n",
    "    for minute in minutes_dic:\n",
    "        minutes_dic[minute] += (len(clients[client][minute]))\n",
    "print(minutes_dic)\n",
    "\n",
    "# print(clients)\n",
    "\n",
    "requests_till_now = 0\n",
    "count = 0\n",
    "for minute, requests in minutes_dic.items():\n",
    "    count +=1\n",
    "    if count > 5:\n",
    "        requests_till_now -= minutes_dic[minute-5]\n",
    "    requests_till_now += requests\n",
    "    print(requests_till_now)\n",
    "    if requests_till_now >= 10:\n",
    "        per_client_limit = requests_till_now//2\n",
    "        for client in clients.keys():\n",
    "            client_count = 0\n",
    "            if minute > 5:\n",
    "                temp = minute - 5\n",
    "            else:\n",
    "                temp = 0\n",
    "            for temp_minute in range(temp,temp+minute+1):\n",
    "#                 print(temp_minute)\n",
    "                client_count += len(clients[client][temp_minute])\n",
    "                if client_count > per_client_limit:\n",
    "                    for i in range(minute+1,minute+3):\n",
    "#                         print(i)\n",
    "#                         minutes_dic[i] -= len(clients[client][i])\n",
    "                        clients[client][i] = []\n",
    "                        \n",
    "print('Client Dict:', clients)\n",
    "print(minutes_dic)\n",
    "\n",
    "ans = {}\n",
    "for client in clients.keys():\n",
    "    ans[client] = 0\n",
    "# print(ans)\n",
    "for client in clients.keys():\n",
    "    for minute in minutes:\n",
    "        ans[client] += len(clients[client][minute])\n",
    "print(ans)"
   ]
  },
  {
   "cell_type": "markdown",
   "metadata": {},
   "source": []
  }
 ],
 "metadata": {
  "kernelspec": {
   "display_name": "Python 3",
   "language": "python",
   "name": "python3"
  },
  "language_info": {
   "codemirror_mode": {
    "name": "ipython",
    "version": 3
   },
   "file_extension": ".py",
   "mimetype": "text/x-python",
   "name": "python",
   "nbconvert_exporter": "python",
   "pygments_lexer": "ipython3",
   "version": "3.7.1"
  }
 },
 "nbformat": 4,
 "nbformat_minor": 2
}
