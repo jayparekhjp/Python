{
 "cells": [
  {
   "cell_type": "markdown",
   "metadata": {},
   "source": [
    "# Data Structures"
   ]
  },
  {
   "cell_type": "markdown",
   "metadata": {},
   "source": [
    "### Linked List"
   ]
  },
  {
   "cell_type": "code",
   "execution_count": 13,
   "metadata": {},
   "outputs": [],
   "source": [
    "class Node:\n",
    "    def __init__(self,value):\n",
    "        self.data = value\n",
    "        self.link = None\n",
    "class SingleLinkedList:\n",
    "    def __init__(self):\n",
    "        self.start = None\n",
    "    def displaylist(self):\n",
    "        if self.start == None:\n",
    "            print('List Empty')\n",
    "        else:\n",
    "            p = self.start\n",
    "            while p != None:\n",
    "                print(p.data,'',end='')\n",
    "                p = p.link\n",
    "    def countnodes(self):\n",
    "        p = self.start\n",
    "        count = 0\n",
    "        while p != None:\n",
    "            count +=1\n",
    "            p = p.link\n",
    "        return count\n",
    "    def findnode(self,val):\n",
    "        position = 1\n",
    "        p = self.start\n",
    "        while p != None:\n",
    "            if p.data == val:\n",
    "                print('Value at Node',position)\n",
    "                return True\n",
    "            position += 1\n",
    "            p = p.link\n",
    "        print('Value not found')\n",
    "        return False"
   ]
  },
  {
   "cell_type": "code",
   "execution_count": 16,
   "metadata": {},
   "outputs": [],
   "source": [
    "mylist = SingleLinkedList()\n",
    "mylist.start = Node('testing')\n",
    "n2 = Node('node2')\n",
    "mylist.start.link = n2"
   ]
  },
  {
   "cell_type": "code",
   "execution_count": 17,
   "metadata": {},
   "outputs": [
    {
     "name": "stdout",
     "output_type": "stream",
     "text": [
      "testing node2 Value at Node 1\n"
     ]
    },
    {
     "data": {
      "text/plain": [
       "True"
      ]
     },
     "execution_count": 17,
     "metadata": {},
     "output_type": "execute_result"
    }
   ],
   "source": [
    "mylist.displaylist()\n",
    "mylist.countnodes()\n",
    "mylist.findnode('testing')"
   ]
  },
  {
   "cell_type": "code",
   "execution_count": null,
   "metadata": {},
   "outputs": [],
   "source": []
  }
 ],
 "metadata": {
  "kernelspec": {
   "display_name": "Python 3",
   "language": "python",
   "name": "python3"
  },
  "language_info": {
   "codemirror_mode": {
    "name": "ipython",
    "version": 3
   },
   "file_extension": ".py",
   "mimetype": "text/x-python",
   "name": "python",
   "nbconvert_exporter": "python",
   "pygments_lexer": "ipython3",
   "version": "3.7.1"
  }
 },
 "nbformat": 4,
 "nbformat_minor": 2
}
